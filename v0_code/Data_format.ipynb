{
 "cells": [
  {
   "cell_type": "code",
   "execution_count": 25,
   "metadata": {},
   "outputs": [],
   "source": [
    "from json import dumps"
   ]
  },
  {
   "cell_type": "markdown",
   "metadata": {},
   "source": [
    "# Send From Pun"
   ]
  },
  {
   "cell_type": "code",
   "execution_count": 26,
   "metadata": {},
   "outputs": [
    {
     "data": {
      "text/plain": [
       "'{\"DID\": \"\", \"NAME\": \"Device Brand\", \"SPO2\": 98.752554, \"HR\": 69, \"TEMP\": 36.7, \"PRESSURE\": {\"DIA\": 118, \"SYS\": 22}, \"VALUES\": 185}'"
      ]
     },
     "execution_count": 26,
     "metadata": {},
     "output_type": "execute_result"
    }
   ],
   "source": [
    "dumps({\"patientId\":\"None\",\n",
    " \"DID\":\"\",\n",
    " \"NAME\":\"Device Brand\", #\n",
    " \"SPO2\":98.752554, # if the value is stable (not much change), return this value once\n",
    " \"HR\":69, # from blood pressure machine\n",
    " \"TEMP\":36.7, #from Thermal Gun\n",
    " \"PRESSURE\":{\"DIA\":118,\"SYS\":22}, # from blood pressure machine\n",
    " \"VALUES\":185, #for plotting (Stream data [ 1 at a time]) -- stop streaming once spo2 is sent\n",
    "})"
   ]
  },
  {
   "cell_type": "markdown",
   "metadata": {},
   "source": [
    "# Recieve"
   ]
  },
  {
   "cell_type": "code",
   "execution_count": 27,
   "metadata": {},
   "outputs": [
    {
     "data": {
      "text/plain": [
       "'{\"NAME\": \"Device Brand\", \"TYPE\": \"spo2\", \"DID\": \"\", \"CMD\": \"\"}'"
      ]
     },
     "execution_count": 27,
     "metadata": {},
     "output_type": "execute_result"
    }
   ],
   "source": [
    "dumps({ \"NAME\": \"Device Brand\",\n",
    " \"TYPE\":\"spo2\", #eg. spo2, \n",
    " \"DID\":\"\",\n",
    " \"CMD\":\"\", #eg. start, stop, readstream\n",
    "})"
   ]
  },
  {
   "cell_type": "raw",
   "metadata": {},
   "source": [
    "For plotting\n",
    "[185, 185, 187, 189, 189, 191, 193, 193, 195, 197, 197, 199, 197,\n",
    "       195, 189, 177, 169, 163, 147, 137, 131, 127, 125, 121, 121, 121,\n",
    "       123, 123, 123, 125, 127, 131, 133, 133, 135, 139, 141, 141, 145,\n",
    "       147, 149, 153, 155, 157, 161, 163, 167, 171, 173, 175, 175, 177,\n",
    "       179, 181, 183, 185, 187, 189, 191, 193, 195, 195, 197, 199, 201,\n",
    "       203, 203, 205, 203, 203, 199, 195, 189, 179, 163, 153, 143, 135,\n",
    "       129, 127, 125, 125, 125, 125, 127, 129, 131, 135, 137, 139, 141,\n",
    "       145, 147, 147, 149, 151, 153, 157, 159, 163, 167]"
   ]
  },
  {
   "cell_type": "code",
   "execution_count": null,
   "metadata": {},
   "outputs": [],
   "source": []
  }
 ],
 "metadata": {
  "kernelspec": {
   "display_name": "Python 3",
   "language": "python",
   "name": "python3"
  },
  "language_info": {
   "codemirror_mode": {
    "name": "ipython",
    "version": 3
   },
   "file_extension": ".py",
   "mimetype": "text/x-python",
   "name": "python",
   "nbconvert_exporter": "python",
   "pygments_lexer": "ipython3",
   "version": "3.8.3"
  }
 },
 "nbformat": 4,
 "nbformat_minor": 4
}
