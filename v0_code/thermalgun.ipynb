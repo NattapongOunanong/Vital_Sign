{
 "cells": [
  {
   "cell_type": "code",
   "execution_count": 4,
   "metadata": {},
   "outputs": [],
   "source": [
    "import pexpect"
   ]
  },
  {
   "cell_type": "code",
   "execution_count": 6,
   "metadata": {},
   "outputs": [],
   "source": [
    "class thermalgun:\n",
    "    def __init__(self):\n",
    "        self.child = pexpect.spawn(\"gatttool -I\")\n",
    "        self.DEVICE=\"18:7a:94:73:01:a3\"\n",
    "        self.command={\n",
    "            \"start\":self.connect,\n",
    "            \"stop\":self.disconnect\n",
    "        }\n",
    "        self.resp={\n",
    "            \"TEMP\":\"\",\n",
    "            \"STATUS\":False\n",
    "        }\n",
    "        \n",
    "    def connect(self):\n",
    "        self.child.sendline(\"disconnect {0}\".format(self.DEVICE))\n",
    "        self.child.sendline(\"connect {0}\".format(self.DEVICE))\n",
    "        self.child.expect(\"Connection successful\", timeout=None)\n",
    "        print(\"Connection Successful\")\n",
    "        self.measureTemp\n",
    "        return self.resp.update({\"STATUS\":True})\n",
    "        \n",
    "    def measureTemp(self):\n",
    "        self.child.expect(\"Notification handle =\",timeout=None)\n",
    "        self.resp.update({\"TEMP\":int(self.child.buffer.decode(\"unicode-escape\")[18:23].replace(\" \",\"\"),16)/10})\n",
    "    \n",
    "    def disconnect(self):\n",
    "        self.child.sendline(\"disconnect {0}\".format(self.DEVICE))\n",
    "        self.resp.update({\"TEMP\":-1})\n",
    "        return self.resp.update({\"STATUS\":False})\n",
    "        \n",
    "    def sendCommand(self,command):\n",
    "        return self.command[command]()"
   ]
  },
  {
   "cell_type": "code",
   "execution_count": null,
   "metadata": {},
   "outputs": [],
   "source": []
  }
 ],
 "metadata": {
  "kernelspec": {
   "display_name": "Python 3",
   "language": "python",
   "name": "python3"
  },
  "language_info": {
   "codemirror_mode": {
    "name": "ipython",
    "version": 3
   },
   "file_extension": ".py",
   "mimetype": "text/x-python",
   "name": "python",
   "nbconvert_exporter": "python",
   "pygments_lexer": "ipython3",
   "version": "3.8.3"
  }
 },
 "nbformat": 4,
 "nbformat_minor": 4
}
