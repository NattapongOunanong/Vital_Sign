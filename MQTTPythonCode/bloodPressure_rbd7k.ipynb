{
 "cells": [
  {
   "cell_type": "code",
   "execution_count": 5,
   "metadata": {},
   "outputs": [],
   "source": [
    "from binascii import unhexlify,hexlify\n",
    "from pydispatch import Dispatcher\n",
    "from threading import Thread\n",
    "from getComportclass import *\n",
    "import paho.mqtt.client as mqtt\n",
    "import time"
   ]
  },
  {
   "cell_type": "markdown",
   "metadata": {},
   "source": [
    "# Classes"
   ]
  },
  {
   "cell_type": "code",
   "execution_count": 10,
   "metadata": {},
   "outputs": [],
   "source": [
    "class readRBD7k(selecComport):\n",
    "    def __init__(self):\n",
    "        super().__init__(baudrate = 9600)\n",
    "        self.command={\n",
    "            \"connect\":\"CC 80 03 03 01 01 00 00\",\n",
    "            \"start\" : \"CC 80 03 03 01 02 00 03\",\n",
    "            \"stop\" : \"CC 80 03 03 01 03 00 02\",\n",
    "            \"lockscreen\" : \"CC 80 03 03 01 08 00 02\",\n",
    "            \"unlockscreen\" : \"CC 80 03 03 01 08 00 02\"\n",
    "        }\n",
    "        self.sys=0\n",
    "        self.dia=0\n",
    "        self.hr=0\n",
    "        self.done=False\n",
    "        self.readingData={\n",
    "            \"PRESSURE\":{\n",
    "                \"SYS\":self.sys,\n",
    "                \"DIA\":self.dia},\n",
    "            \"HR\":self.hr,\n",
    "        }\n",
    "        \n",
    "    def HexStringtoByteArray(self,command):\n",
    "        command=command.replace(\" \",\"\")\n",
    "        command=unhexlify(command)\n",
    "        return command\n",
    "    \n",
    "    def sendCommand(self,action):\n",
    "        self.done=False\n",
    "        if isinstance(self.ser, str) or self.ser.close():\n",
    "            return \"Devices not Connected\"\n",
    "        self.ser.write(self.HexStringtoByteArray(self.command[action.lower()]))\n",
    "        print('Send Command: {0}'.format(str(self.command[action]).replace(\" \",\"\")))\n",
    "        machineRes=self.machineRes()\n",
    "        if machineRes == \"AA80030301020003\":\n",
    "#             self.reading = Thread(target=self.readReady)\n",
    "#             self.reading.start()\n",
    "#             self.reading.join()\n",
    "            return self.readingData\n",
    "        else:\n",
    "            return None\n",
    "        \n",
    "    def machineRes(self):\n",
    "    #     Print out response of the machine [8 bytes]\n",
    "        response = hexlify(self.ser.read(8)).decode('unicode-escape').upper()\n",
    "        print(\"RBD-7000 Response: {0}\".format(response))\n",
    "        return response\n",
    "    \n",
    "    def readReady(self):\n",
    "        line=[]\n",
    "        startTime=time.perf_counter()\n",
    "        finishTime=time.perf_counter()\n",
    "        diff=finishTime-startTime\n",
    "        timeout=30 #seconds\n",
    "        while diff<timeout:\n",
    "            if self.ser.in_waiting == 20:\n",
    "                self.done=True\n",
    "                for data in range(self.ser.in_waiting):\n",
    "                    line.append(self.ser.read())\n",
    "                break\n",
    "            diff=finishTime-startTime\n",
    "        return self.getsysdiahr(line)\n",
    "    \n",
    "    def getsysdiahr(self,hexstr):\n",
    "        self.sys = int.from_bytes(hexstr[14],\"big\")\n",
    "        self.dia = int.from_bytes(hexstr[16],\"big\")\n",
    "        self.hr = int.from_bytes(hexstr[18],\"big\")\n",
    "        return self.sys,self.dia,self.hr"
   ]
  },
  {
   "cell_type": "markdown",
   "metadata": {},
   "source": [
    "# Test Functions"
   ]
  },
  {
   "cell_type": "code",
   "execution_count": 11,
   "metadata": {},
   "outputs": [
    {
     "data": {
      "text/plain": [
       "'No ComPort Available'"
      ]
     },
     "execution_count": 11,
     "metadata": {},
     "output_type": "execute_result"
    }
   ],
   "source": [
    "readSerial = readRBD7k()\n",
    "readSerial.getSerObj()"
   ]
  },
  {
   "cell_type": "code",
   "execution_count": 12,
   "metadata": {},
   "outputs": [
    {
     "data": {
      "text/plain": [
       "'Devices not Connected'"
      ]
     },
     "execution_count": 12,
     "metadata": {},
     "output_type": "execute_result"
    }
   ],
   "source": [
    "readSerial.sendCommand('start')\n",
    "time.sleep(5)\n",
    "# print(\"hi\")\n",
    "readSerial.sendCommand('stop')\n",
    "# readSerial.ser.close()"
   ]
  },
  {
   "cell_type": "code",
   "execution_count": null,
   "metadata": {},
   "outputs": [],
   "source": []
  }
 ],
 "metadata": {
  "kernelspec": {
   "display_name": "Python 3",
   "language": "python",
   "name": "python3"
  },
  "language_info": {
   "codemirror_mode": {
    "name": "ipython",
    "version": 3
   },
   "file_extension": ".py",
   "mimetype": "text/x-python",
   "name": "python",
   "nbconvert_exporter": "python",
   "pygments_lexer": "ipython3",
   "version": "3.8.3"
  }
 },
 "nbformat": 4,
 "nbformat_minor": 4
}
