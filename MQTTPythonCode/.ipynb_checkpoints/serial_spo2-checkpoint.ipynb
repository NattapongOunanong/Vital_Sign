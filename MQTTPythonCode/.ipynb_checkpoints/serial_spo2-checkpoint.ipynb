{
 "cells": [
  {
   "cell_type": "code",
   "execution_count": 10,
   "metadata": {},
   "outputs": [],
   "source": [
    "import time\n",
    "import paho.mqtt.client as mqtt\n",
    "import numpy as np\n",
    "from collections import deque\n",
    "from binascii import unhexlify,hexlify\n",
    "from json import dumps\n",
    "from calc_spo2 import calc_SPO2\n",
    "from threading import Thread\n",
    "from datetime import datetime\n",
    "from statistics import mean, stdev\n",
    "from getmac import get_mac_address as gma\n",
    "\n",
    "from getComportclass import *\n",
    "from serial_spo2 import *"
   ]
  },
  {
   "cell_type": "code",
   "execution_count": 11,
   "metadata": {},
   "outputs": [],
   "source": [
    "class readSPO2(selecComport,calc_SPO2):\n",
    "    def __init__(self):\n",
    "        super().__init__(baudrate=4800)\n",
    "        self.buffer=[]\n",
    "        self.block=[]\n",
    "        self.byteArray=[]\n",
    "        self.client = mqtt.Client()\n",
    "        self.client.username_pw_set(username=\"mqtt\", password=\"12345\")\n",
    "        self.Command={\n",
    "            \"start\": self.startStream,\n",
    "            \"stop\": self.stopStream,\n",
    "            \"status\": self.getStatus,\n",
    "            \"read\":None,\n",
    "            \"calibrate\":None,\n",
    "            \"reset\":None,\n",
    "            \"stream\":None\n",
    "        }\n",
    "        self.resp={\n",
    "            \"name\":\"spo2\",\n",
    "            \"spo2\":{\"value\":None,\"raw\":[],\"hr\":None}\n",
    "        }\n",
    "        self.SAMPLE_FREQ = 25\n",
    "        self.MA_SIZE = 4\n",
    "        self.BUFFER_SIZE = 100\n",
    "        \n",
    "    def sendCommand(self,command):\n",
    "        self.Command[command]()\n",
    "    \n",
    "    def initStream(self):\n",
    "        if isinstance(self.ser,str):\n",
    "#             self.resp[\"STATUS\"]=False\n",
    "            return self.resp\n",
    "        \n",
    "        if not self.ser.isOpen():\n",
    "            self.ser.open()\n",
    "        self.strmqtt()W\n",
    "        \n",
    "    def startStream(self):\n",
    "        self.initStream()\n",
    "        message=dict(self.resp)\n",
    "        spo2Array=deque([],3)\n",
    "        while True:\n",
    "            byte=int(hexlify(self.ser.read()),16)\n",
    "            if len(self.byteArray)>6:\n",
    "                self.byteArray.clear()\n",
    "            if byte == 0 and len(self.byteArray)==6:\n",
    "                self.block.append(list(self.byteArray[2:4]))\n",
    "                message[\"spo2\"][\"raw\"].append(int(self.byteArray[1]))\n",
    "                self.byteArray.clear()\n",
    "            else:\n",
    "                self.byteArray.append(byte)\n",
    "            if len(self.block)>=100:\n",
    "                data=np.asarray(self.block)\n",
    "                hr,boolhr,value,boolvalue=self.calc_hr_and_spo2(data[:,1], data[:,0])\n",
    "                spo2Array.append(value)\n",
    "                self.block.clear()\n",
    "                if len(spo2Array)==3:\n",
    "                    if mean(spo2Array):\n",
    "                        break\n",
    "        message[\"spo2\"]['value']=value if boolvalue else None\n",
    "        message[\"spo2\"]['hr']=hr if boolhr else None\n",
    "        message[\"dt\"]=(datetime.timestamp(datetime.now()))\n",
    "        self.client.publish(\"vitalSign\",dumps(message))\n",
    "        # self.client.publish(\"vitalSign\", dumps(message))        \n",
    "    \n",
    "    def stopStream(self):\n",
    "        try:\n",
    "            self.ser.close()\n",
    "        except:\n",
    "            pass\n",
    "        message=dict(self.resp)\n",
    "        print(self.resp)\n",
    "        message[\"dt\"]=(datetime.timestamp(datetime.now()))\n",
    "        self.client.publish(\"vitalSign\",dumps(message))\n",
    "        \n",
    "    def getStatus(self):\n",
    "        self.resp[\"STATUS\"]=self.ser.isOpen()\n",
    "        return self.resp\n",
    "    \n",
    "    def strmqtt(self):\n",
    "        self.client.connect('3.0.54.110', 8082, 60)\n",
    "    \n",
    "    def stopmqtt(self):\n",
    "        self.client.disconnect()"
   ]
  },
  {
   "cell_type": "markdown",
   "metadata": {},
   "source": [
    "# Below is 4 Testing"
   ]
  },
  {
   "cell_type": "code",
   "execution_count": 12,
   "metadata": {},
   "outputs": [
    {
     "name": "stdout",
     "output_type": "stream",
     "text": [
      "(1) USB Serial Port (COM5)\n"
     ]
    }
   ],
   "source": [
    "try:\n",
    "    spo2.ser.close()\n",
    "except:\n",
    "    pass\n",
    "spo2=readSPO2()\n",
    "spo2.getSerObj()\n",
    "# spo2.ser.read()"
   ]
  },
  {
   "cell_type": "code",
   "execution_count": 13,
   "metadata": {},
   "outputs": [
    {
     "ename": "TypeError",
     "evalue": "'NoneType' object is not subscriptable",
     "output_type": "error",
     "traceback": [
      "\u001b[1;31m---------------------------------------------------------------------------\u001b[0m",
      "\u001b[1;31mTypeError\u001b[0m                                 Traceback (most recent call last)",
      "\u001b[1;32m<ipython-input-13-54eb5496ebe7>\u001b[0m in \u001b[0;36m<module>\u001b[1;34m\u001b[0m\n\u001b[1;32m----> 1\u001b[1;33m \u001b[0mspo2\u001b[0m\u001b[1;33m.\u001b[0m\u001b[0msendCommand\u001b[0m\u001b[1;33m(\u001b[0m\u001b[1;34m\"start\"\u001b[0m\u001b[1;33m)\u001b[0m\u001b[1;33m\u001b[0m\u001b[1;33m\u001b[0m\u001b[0m\n\u001b[0m",
      "\u001b[1;32m<ipython-input-11-61566f55bbce>\u001b[0m in \u001b[0;36msendCommand\u001b[1;34m(self, command)\u001b[0m\n\u001b[0;32m     25\u001b[0m \u001b[1;33m\u001b[0m\u001b[0m\n\u001b[0;32m     26\u001b[0m     \u001b[1;32mdef\u001b[0m \u001b[0msendCommand\u001b[0m\u001b[1;33m(\u001b[0m\u001b[0mself\u001b[0m\u001b[1;33m,\u001b[0m\u001b[0mcommand\u001b[0m\u001b[1;33m)\u001b[0m\u001b[1;33m:\u001b[0m\u001b[1;33m\u001b[0m\u001b[1;33m\u001b[0m\u001b[0m\n\u001b[1;32m---> 27\u001b[1;33m         \u001b[0mself\u001b[0m\u001b[1;33m.\u001b[0m\u001b[0mCommand\u001b[0m\u001b[1;33m[\u001b[0m\u001b[0mcommand\u001b[0m\u001b[1;33m]\u001b[0m\u001b[1;33m(\u001b[0m\u001b[1;33m)\u001b[0m\u001b[1;33m\u001b[0m\u001b[1;33m\u001b[0m\u001b[0m\n\u001b[0m\u001b[0;32m     28\u001b[0m \u001b[1;31m#         if command == \"start\":\u001b[0m\u001b[1;33m\u001b[0m\u001b[1;33m\u001b[0m\u001b[1;33m\u001b[0m\u001b[0m\n\u001b[0;32m     29\u001b[0m \u001b[1;31m#             stream=Thread(target=self.Command[command]())\u001b[0m\u001b[1;33m\u001b[0m\u001b[1;33m\u001b[0m\u001b[1;33m\u001b[0m\u001b[0m\n",
      "\u001b[1;32m<ipython-input-11-61566f55bbce>\u001b[0m in \u001b[0;36mstartStream\u001b[1;34m(self)\u001b[0m\n\u001b[0;32m     52\u001b[0m             \u001b[1;32mif\u001b[0m \u001b[0mbyte\u001b[0m \u001b[1;33m==\u001b[0m \u001b[1;36m0\u001b[0m \u001b[1;32mand\u001b[0m \u001b[0mlen\u001b[0m\u001b[1;33m(\u001b[0m\u001b[0mself\u001b[0m\u001b[1;33m.\u001b[0m\u001b[0mbyteArray\u001b[0m\u001b[1;33m)\u001b[0m\u001b[1;33m==\u001b[0m\u001b[1;36m6\u001b[0m\u001b[1;33m:\u001b[0m\u001b[1;33m\u001b[0m\u001b[1;33m\u001b[0m\u001b[0m\n\u001b[0;32m     53\u001b[0m                 \u001b[0mself\u001b[0m\u001b[1;33m.\u001b[0m\u001b[0mblock\u001b[0m\u001b[1;33m.\u001b[0m\u001b[0mappend\u001b[0m\u001b[1;33m(\u001b[0m\u001b[0mlist\u001b[0m\u001b[1;33m(\u001b[0m\u001b[0mself\u001b[0m\u001b[1;33m.\u001b[0m\u001b[0mbyteArray\u001b[0m\u001b[1;33m[\u001b[0m\u001b[1;36m2\u001b[0m\u001b[1;33m:\u001b[0m\u001b[1;36m4\u001b[0m\u001b[1;33m]\u001b[0m\u001b[1;33m)\u001b[0m\u001b[1;33m)\u001b[0m\u001b[1;33m\u001b[0m\u001b[1;33m\u001b[0m\u001b[0m\n\u001b[1;32m---> 54\u001b[1;33m                 \u001b[0mself\u001b[0m\u001b[1;33m.\u001b[0m\u001b[0mresp\u001b[0m\u001b[1;33m[\u001b[0m\u001b[1;34m\"spo2\"\u001b[0m\u001b[1;33m]\u001b[0m\u001b[1;33m[\u001b[0m\u001b[1;34m\"raw\"\u001b[0m\u001b[1;33m]\u001b[0m\u001b[1;33m.\u001b[0m\u001b[0mappend\u001b[0m\u001b[1;33m(\u001b[0m\u001b[0mint\u001b[0m\u001b[1;33m(\u001b[0m\u001b[0mself\u001b[0m\u001b[1;33m.\u001b[0m\u001b[0mbyteArray\u001b[0m\u001b[1;33m[\u001b[0m\u001b[1;36m1\u001b[0m\u001b[1;33m]\u001b[0m\u001b[1;33m)\u001b[0m\u001b[1;33m)\u001b[0m\u001b[1;33m\u001b[0m\u001b[1;33m\u001b[0m\u001b[0m\n\u001b[0m\u001b[0;32m     55\u001b[0m                 \u001b[0mself\u001b[0m\u001b[1;33m.\u001b[0m\u001b[0mbyteArray\u001b[0m\u001b[1;33m.\u001b[0m\u001b[0mclear\u001b[0m\u001b[1;33m(\u001b[0m\u001b[1;33m)\u001b[0m\u001b[1;33m\u001b[0m\u001b[1;33m\u001b[0m\u001b[0m\n\u001b[0;32m     56\u001b[0m             \u001b[1;32melse\u001b[0m\u001b[1;33m:\u001b[0m\u001b[1;33m\u001b[0m\u001b[1;33m\u001b[0m\u001b[0m\n",
      "\u001b[1;31mTypeError\u001b[0m: 'NoneType' object is not subscriptable"
     ]
    }
   ],
   "source": [
    "spo2.sendCommand(\"start\")"
   ]
  },
  {
   "cell_type": "code",
   "execution_count": null,
   "metadata": {},
   "outputs": [],
   "source": [
    "spo2.strmqtt()"
   ]
  },
  {
   "cell_type": "code",
   "execution_count": null,
   "metadata": {},
   "outputs": [],
   "source": [
    "spo2.startStream()"
   ]
  },
  {
   "cell_type": "code",
   "execution_count": null,
   "metadata": {},
   "outputs": [],
   "source": [
    "for data in array:\n",
    "#             byte=int(hexlify(self.ser.read()),16)\n",
    "# #             byte=self.ser.read()\n",
    "#             if byte == 58:\n",
    "# #             if byte == 0 and len(self.byteArray)==6:\n",
    "#                 self.block.append(list(self.byteArray[2:3]))\n",
    "#                 self.resp[\"spo2\"][\"value\"]=self.byteArray[1]\n",
    "#                 self.client.publish(\"spo2_value\", dumps(self.resp))\n",
    "#                 self.byteArray.clear()\n",
    "#             else:\n",
    "#                 self.byteArray.append(byte)\n",
    "#             if len(self.block)>=100:\n",
    "#                 self.buffer.append(list(self.block))\n",
    "#                 self.block.clear()\n",
    "            \n",
    "            self.resp[\"spo2\"][\"value\"].append(data[1])\n",
    "            tmp.append(data[2:3])\n",
    "        calc_hr_and_spo2(tmp[:,0],tmp[:,1])\n",
    "        self.client.publish(\"vitalSign\", dumps(self.resp))        \n",
    "        self.resp['SPO2']=-1"
   ]
  },
  {
   "cell_type": "code",
   "execution_count": null,
   "metadata": {},
   "outputs": [],
   "source": [
    "spo2Array=deque()\n",
    "spo2Array.append(\"hi\")\n",
    "spo2Array"
   ]
  },
  {
   "cell_type": "code",
   "execution_count": null,
   "metadata": {},
   "outputs": [],
   "source": [
    "try:\n",
    "    ser.close()\n",
    "except:\n",
    "    pass\n",
    "\n",
    "ser = spo2.getSerObj()\n",
    "byteArray=[]\n",
    "block=[]\n",
    "buffer=[]\n",
    "\n",
    "while len(block)<=100:\n",
    "    byte=int(hexlify(ser.read()),16)\n",
    "    if byte == 0:\n",
    "#         print(byteArray)\n",
    "        if len(byteArray)==6:\n",
    "            block.append(np.asarray(byteArray))\n",
    "        byteArray.clear()\n",
    "    else:\n",
    "        byteArray.append(byte)\n",
    "#     print(block)\n",
    "block"
   ]
  },
  {
   "cell_type": "code",
   "execution_count": null,
   "metadata": {},
   "outputs": [],
   "source": [
    "array=np.array(block)\n",
    "ir_data=array[:,1] #guessing variable name\n",
    "red_data=array[:,2] #guessing variable name\n",
    "calc_class=getSPO2()\n",
    "calc_class.calc_hr_and_spo2(ir_data,red_data)"
   ]
  },
  {
   "cell_type": "code",
   "execution_count": null,
   "metadata": {},
   "outputs": [],
   "source": [
    "array=np.array([[189, 185, 247, 125, 118,   3],\n",
    "       [189, 185, 247, 125, 118,   3],\n",
    "       [189, 187, 238, 125, 118,   3],\n",
    "       [189, 189, 238, 125, 118,   3],\n",
    "       [189, 189, 238, 125, 118,   3],\n",
    "       [189, 191, 247, 125, 118,   3],\n",
    "       [189, 193, 249, 250, 217,   6],\n",
    "       [189, 193, 249, 250, 217,   6],\n",
    "       [189, 195, 242, 250, 217,   6],\n",
    "       [189, 197, 242, 250, 217,   6],\n",
    "       [189, 197, 242, 250, 217,   6],\n",
    "       [189, 199, 249, 250, 217,   6],\n",
    "       [189, 197, 242, 250, 217,   6],\n",
    "       [189, 195, 242, 250, 217,   6],\n",
    "       [189, 189, 238, 125, 118,   3],\n",
    "       [189, 177, 238, 125, 118,   3],\n",
    "       [189, 169, 234, 250, 217,   6],\n",
    "       [189, 163, 234, 250, 217,   6],\n",
    "       [189, 147, 230, 250, 217,   6],\n",
    "       [189, 137, 241, 125, 118,   3],\n",
    "       [189, 131, 241, 125, 118,   3],\n",
    "       [189, 127, 239, 125, 118,   3],\n",
    "       [189, 125, 222, 125, 118,   3],\n",
    "       [189, 121, 239, 125, 118,   3],\n",
    "       [189, 121, 239, 125, 118,   3],\n",
    "       [189, 121, 239, 125, 118,   3],\n",
    "       [189, 123, 222, 125, 118,   3],\n",
    "       [189, 123, 222, 125, 118,   3],\n",
    "       [189, 123, 222, 125, 118,   3],\n",
    "       [189, 125, 222, 125, 118,   3],\n",
    "       [189, 127, 239, 125, 118,   3],\n",
    "       [189, 131, 241, 125, 118,   3],\n",
    "       [189, 133, 241, 125, 118,   3],\n",
    "       [189, 133, 241, 125, 118,   3],\n",
    "       [189, 135, 226, 125, 118,   3],\n",
    "       [189, 139, 226, 125, 118,   3],\n",
    "       [189, 141, 226, 125, 118,   3],\n",
    "       [189, 141, 226, 125, 118,   3],\n",
    "       [189, 145, 243, 250, 217,   6],\n",
    "       [ 29, 147, 230, 250, 217,   6],\n",
    "       [ 29, 149, 230, 250, 217,   6],\n",
    "       [189, 153, 230, 250, 217,   6],\n",
    "       [189, 155, 243, 250, 217,   6],\n",
    "       [189, 157, 243, 250, 217,   6],\n",
    "       [189, 161, 245, 250, 217,   6],\n",
    "       [189, 163, 234, 250, 217,   6],\n",
    "       [189, 167, 245, 250, 217,   6],\n",
    "       [189, 171, 245, 250, 217,   6],\n",
    "       [189, 173, 245, 250, 217,   6],\n",
    "       [189, 175, 234, 250, 217,   6],\n",
    "       [189, 175, 234, 250, 217,   6],\n",
    "       [189, 177, 238, 125, 118,   3],\n",
    "       [189, 179, 247, 125, 118,   3],\n",
    "       [189, 181, 247, 125, 118,   3],\n",
    "       [189, 183, 238, 125, 118,   3],\n",
    "       [189, 185, 247, 125, 118,   3],\n",
    "       [189, 187, 238, 125, 118,   3],\n",
    "       [189, 189, 238, 125, 118,   3],\n",
    "       [189, 191, 247, 125, 118,   3],\n",
    "       [189, 193, 249, 250, 217,   6],\n",
    "       [189, 195, 242, 250, 217,   6],\n",
    "       [189, 195, 242, 250, 217,   6],\n",
    "       [189, 197, 242, 250, 217,   6],\n",
    "       [189, 199, 249, 250, 217,   6],\n",
    "       [189, 201, 242, 250, 217,   6],\n",
    "       [189, 203, 249, 250, 217,   6],\n",
    "       [189, 203, 249, 250, 217,   6],\n",
    "       [189, 205, 249, 250, 217,   6],\n",
    "       [189, 203, 249, 250, 217,   6],\n",
    "       [189, 203, 249, 250, 217,   6],\n",
    "       [189, 199, 249, 250, 217,   6],\n",
    "       [189, 195, 242, 250, 217,   6],\n",
    "       [189, 189, 238, 125, 118,   3],\n",
    "       [189, 179, 247, 125, 118,   3],\n",
    "       [189, 163, 234, 250, 217,   6],\n",
    "       [189, 153, 230, 250, 217,   6],\n",
    "       [189, 143, 241, 125, 118,   3],\n",
    "       [189, 135, 226, 125, 118,   3],\n",
    "       [189, 129, 226, 125, 118,   3],\n",
    "       [189, 127, 239, 125, 118,   3],\n",
    "       [189, 125, 222, 125, 118,   3],\n",
    "       [189, 125, 222, 125, 118,   3],\n",
    "       [189, 125, 222, 125, 118,   3],\n",
    "       [189, 125, 222, 125, 118,   3],\n",
    "       [189, 127, 239, 125, 118,   3],\n",
    "       [189, 129, 226, 125, 118,   3],\n",
    "       [189, 131, 241, 125, 118,   3],\n",
    "       [189, 135, 226, 125, 118,   3],\n",
    "       [189, 137, 241, 125, 118,   3],\n",
    "       [ 29, 139, 226, 125, 118,   3],\n",
    "       [ 29, 141, 226, 125, 118,   3],\n",
    "       [189, 145, 243, 250, 217,   6],\n",
    "       [189, 147, 230, 250, 217,   6],\n",
    "       [189, 147, 230, 250, 217,   6],\n",
    "       [189, 149, 230, 250, 217,   6],\n",
    "       [189, 151, 243, 250, 217,   6],\n",
    "       [189, 153, 230, 250, 217,   6],\n",
    "       [189, 157, 243, 250, 217,   6],\n",
    "       [189, 159, 230, 250, 217,   6],\n",
    "       [189, 163, 234, 250, 217,   6],\n",
    "       [189, 167, 245, 250, 217,   6]])"
   ]
  },
  {
   "cell_type": "code",
   "execution_count": null,
   "metadata": {},
   "outputs": [],
   "source": [
    "ir_data=array[:,1] #guessing variable name\n",
    "red_data=array[:,2] #guessing variable name\n",
    "calc_hr_and_spo2(ir_data,red_data)\n",
    "array[:,1]\n"
   ]
  },
  {
   "cell_type": "code",
   "execution_count": null,
   "metadata": {},
   "outputs": [],
   "source": [
    "import matplotlib.pyplot as plt\n",
    "# for k in range(len(array[0])):\n",
    "#     plt.plot(np.linspace(0,100,num=len(array)),array[:,k])\n",
    "plt.plot(np.linspace(0,100,num=len(array)),array[:,1])\n",
    "# plt.plot(np.linspace(0,100,num=len(array)),ir_data)\n",
    "# plt.plot(np.linspace(0,100,num=len(array)),red_data)"
   ]
  },
  {
   "cell_type": "code",
   "execution_count": null,
   "metadata": {},
   "outputs": [],
   "source": [
    "np.fft.fft(array[:,1],2)"
   ]
  },
  {
   "cell_type": "code",
   "execution_count": null,
   "metadata": {},
   "outputs": [],
   "source": [
    "array=np.array(block)\n",
    "array"
   ]
  },
  {
   "cell_type": "code",
   "execution_count": null,
   "metadata": {},
   "outputs": [],
   "source": []
  }
 ],
 "metadata": {
  "kernelspec": {
   "display_name": "Python 3",
   "language": "python",
   "name": "python3"
  },
  "language_info": {
   "codemirror_mode": {
    "name": "ipython",
    "version": 3
   },
   "file_extension": ".py",
   "mimetype": "text/x-python",
   "name": "python",
   "nbconvert_exporter": "python",
   "pygments_lexer": "ipython3",
   "version": "3.7.4"
  }
 },
 "nbformat": 4,
 "nbformat_minor": 4
}
