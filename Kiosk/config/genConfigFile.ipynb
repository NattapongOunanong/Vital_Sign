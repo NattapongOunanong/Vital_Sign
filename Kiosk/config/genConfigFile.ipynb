{
 "cells": [
  {
   "cell_type": "code",
   "execution_count": 1,
   "metadata": {},
   "outputs": [],
   "source": [
    "from configparser import ConfigParser"
   ]
  },
  {
   "cell_type": "markdown",
   "metadata": {},
   "source": [
    "# Communication Protocol "
   ]
  },
  {
   "cell_type": "code",
   "execution_count": 2,
   "metadata": {},
   "outputs": [],
   "source": [
    "#Communication Protocol\n",
    "config_object = ConfigParser()"
   ]
  },
  {
   "cell_type": "code",
   "execution_count": 3,
   "metadata": {},
   "outputs": [],
   "source": [
    "config_object[\"mqtt\"]={\n",
    "    \"url\": \"3.0.54.110\",\n",
    "    \"port\": \"8082\",\n",
    "    \"username\": \"mqtt\",\n",
    "    \"password\": \"12345\",\n",
    "    \"topic\": {\"publisher\":[\"vitalSign\"],\n",
    "              \"subscriber\":[\"remoteCtrl\", \"remoteCtrlReply\"]\n",
    "             }\n",
    "}\n",
    "# config_object[\"restAPI\"]={\n",
    "#     \"url\":\"hello\",\n",
    "#     \"port\": \"world\",\n",
    "#     \"username\": \"from\",\n",
    "#     \"password\": \"HII\"\n",
    "# }"
   ]
  },
  {
   "cell_type": "code",
   "execution_count": 4,
   "metadata": {},
   "outputs": [],
   "source": [
    "#Write the above sections to config.ini file\n",
    "with open('emetWorksCommProtocol.ini', 'w') as conf:\n",
    "    config_object.write(conf)"
   ]
  },
  {
   "cell_type": "markdown",
   "metadata": {},
   "source": [
    "# Hardware"
   ]
  },
  {
   "cell_type": "code",
   "execution_count": 5,
   "metadata": {},
   "outputs": [],
   "source": [
    "#Communication Protocol\n",
    "# Comport for Raspberry Pi\n",
    "# '/dev/ttyUSB0', '/dev/ttyUSB1'\n",
    "config_object = ConfigParser()"
   ]
  },
  {
   "cell_type": "code",
   "execution_count": 6,
   "metadata": {},
   "outputs": [],
   "source": [
    "# config_object[\"krKristaz\"]={\n",
    "#         \"name\":\"krKristaz\",\n",
    "#         \"blueAddr\": \"18:7a:94:73:01:a3\"\n",
    "#         }\n",
    "config_object[\"raycomRPD7000\"]={\n",
    "        \"name\":\"raycomRPD7000\",\n",
    "        \"baudrate\":\"9600\",\n",
    "        \"command\":{\n",
    "            \"status\":\"CC 80 03 03 01 01 00 00\",\n",
    "            \"start\" : \"CC 80 03 03 01 02 00 03\",\n",
    "            \"stop\" : \"CC 80 03 03 01 03 00 02\",\n",
    "            \"lockscreen\" : \"CC 80 03 03 01 08 00 02\",\n",
    "            \"unlockscreen\" : \"CC 80 03 03 01 08 00 02\",\n",
    "            \"read\" : \"None\",\n",
    "            \"calibrate\" : \"None\",\n",
    "            \"reset\": \"None\"\n",
    "        },\n",
    "        \"comPort\":\"COM7\"\n",
    "}\n",
    "config_object[\"spo2\"]={\n",
    "        \"name\":\"spo2\",\n",
    "        \"baudrate\":\"4800\",\n",
    "        \"comPort\":\"COM6\"\n",
    "        }"
   ]
  },
  {
   "cell_type": "code",
   "execution_count": 7,
   "metadata": {},
   "outputs": [],
   "source": [
    "#Write the above sections to config.ini file\n",
    "with open('banbangkhae.ini', 'w') as conf:\n",
    "    config_object.write(conf)"
   ]
  },
  {
   "cell_type": "code",
   "execution_count": null,
   "metadata": {},
   "outputs": [],
   "source": []
  },
  {
   "cell_type": "code",
   "execution_count": null,
   "metadata": {},
   "outputs": [],
   "source": []
  }
 ],
 "metadata": {
  "kernelspec": {
   "display_name": "Python 3",
   "language": "python",
   "name": "python3"
  },
  "language_info": {
   "codemirror_mode": {
    "name": "ipython",
    "version": 3
   },
   "file_extension": ".py",
   "mimetype": "text/x-python",
   "name": "python",
   "nbconvert_exporter": "python",
   "pygments_lexer": "ipython3",
   "version": "3.8.3"
  }
 },
 "nbformat": 4,
 "nbformat_minor": 4
}
