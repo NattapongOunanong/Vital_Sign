{
 "cells": [
  {
   "cell_type": "code",
   "execution_count": null,
   "metadata": {},
   "outputs": [],
   "source": [
    "from configparser import ConfigParser\n",
    "import importlib\n",
    "import threading\n",
    "\n",
    "import mqtt\n",
    "import jsonSerializer\n",
    "import RTCmanager"
   ]
  },
  {
   "cell_type": "code",
   "execution_count": null,
   "metadata": {},
   "outputs": [],
   "source": [
    "class Kiosk():\n",
    "    def __init__(self, config):\n",
    "        self.mqtt = mqtt.mqtt(config[\"mqtt\"])\n",
    "        self.RTCmanager=RTCmanager.RTCmanager()\n",
    "        self.jsonSerializer=jsonSerializer.jsonGen()\n",
    "           \n",
    "    def run(self):\n",
    "        thread = threading.Thread(target=self.mqtt.run)\n",
    "        thread.daemon=True\n",
    "        thread.start()\n",
    "        msgQueue = [self.RTCmanager.spo2.msgQueue,self.RTCmanager.raycomRPD7000.msgQueue]\n",
    "        while True:\n",
    "            if not self.mqtt.message.empty():\n",
    "                cmd = self.mqtt.message.get_nowait()\n",
    "                self.RTCmanager.analyze(cmd)\n",
    "            if any(msgQueue):\n",
    "                for msg in msgQueue:\n",
    "                    try:\n",
    "                        message = msg.get_nowait()\n",
    "                        self.jsonSerializer.jsonManager(message)\n",
    "                        while not self.jsonSerializer.msgQueue.empty():\n",
    "                            if eval(cmd.payload)['cmd'] == \"status\":\n",
    "                                \n",
    "                                self.mqtt.publish(\"remoteCtrlReply\",self.jsonSerializer.msgQueue.get_nowait())\n",
    "                            else:\n",
    "                                self.mqtt.publish(\"vitalSign\",self.jsonSerializer.msgQueue.get_nowait())\n",
    "                    except Exception as e:\n",
    "                        pass\n",
    "        \n"
   ]
  },
  {
   "cell_type": "code",
   "execution_count": null,
   "metadata": {},
   "outputs": [],
   "source": [
    "configFile={\"hardware\":\"config/banbangkhae.ini\",\n",
    "            \"commProtocol\":\"config/emetWorksCommProtocol.ini\"\n",
    "           }\n",
    "config=ConfigParser()\n",
    "config.read(configFile[\"commProtocol\"])\n",
    "configDevice= ConfigParser()\n",
    "configDevice.read(configFile[\"hardware\"])\n",
    "\n",
    "\n",
    "kiosk=Kiosk(config)\n",
    "\n",
    "kiosk.run()"
   ]
  },
  {
   "cell_type": "code",
   "execution_count": null,
   "metadata": {},
   "outputs": [],
   "source": [
    "spo2BlackBoxThread = threading.Thread(target=kiosk.spo2BlackBox.main, name=\"spo2BlackBox\")\n",
    "spo2BlackBoxThread.daemon=True\n",
    "spo2BlackBoxThread.start()"
   ]
  },
  {
   "cell_type": "code",
   "execution_count": null,
   "metadata": {},
   "outputs": [],
   "source": [
    "kiosk.spo2BlackBox.action=\"status\""
   ]
  },
  {
   "cell_type": "code",
   "execution_count": null,
   "metadata": {},
   "outputs": [],
   "source": [
    "kiosk.spo2BlackBox.action=\"start\""
   ]
  },
  {
   "cell_type": "code",
   "execution_count": null,
   "metadata": {},
   "outputs": [],
   "source": [
    "obj=kiosk.spo2BlackBox.msgQueue.get_nowait()"
   ]
  },
  {
   "cell_type": "code",
   "execution_count": null,
   "metadata": {},
   "outputs": [],
   "source": [
    "kiosk.spo2BlackBox.msgQueue.empty()"
   ]
  },
  {
   "cell_type": "code",
   "execution_count": null,
   "metadata": {},
   "outputs": [],
   "source": [
    "kiosk.raycomRPD7000.action = \"connect\""
   ]
  },
  {
   "cell_type": "code",
   "execution_count": null,
   "metadata": {},
   "outputs": [],
   "source": [
    "kiosk.raycomRPD7000.action = \"start\""
   ]
  },
  {
   "cell_type": "code",
   "execution_count": null,
   "metadata": {},
   "outputs": [],
   "source": [
    "kiosk.raycomRPD7000.action = \"stop\""
   ]
  },
  {
   "cell_type": "code",
   "execution_count": null,
   "metadata": {},
   "outputs": [],
   "source": [
    "kiosk.raycomRPD7000.action = \"status\""
   ]
  },
  {
   "cell_type": "code",
   "execution_count": null,
   "metadata": {},
   "outputs": [],
   "source": [
    "obj=kiosk.raycomRPD7000.msgQueue.get()"
   ]
  },
  {
   "cell_type": "code",
   "execution_count": null,
   "metadata": {},
   "outputs": [],
   "source": [
    "obj.__dict__"
   ]
  },
  {
   "cell_type": "code",
   "execution_count": null,
   "metadata": {
    "scrolled": false
   },
   "outputs": [],
   "source": [
    "mqttThread=threading.Thread(target=kiosk.mqtt)\n",
    "mqttThread.daemon=True\n",
    "mqttThread.start()"
   ]
  },
  {
   "cell_type": "code",
   "execution_count": null,
   "metadata": {},
   "outputs": [],
   "source": [
    "kiosk.mqttObj.publish(\"vitalSign\", 1)"
   ]
  },
  {
   "cell_type": "code",
   "execution_count": null,
   "metadata": {},
   "outputs": [],
   "source": [
    "kiosk.mqttObj.message.get_nowait()"
   ]
  },
  {
   "cell_type": "code",
   "execution_count": null,
   "metadata": {},
   "outputs": [],
   "source": [
    "import json"
   ]
  },
  {
   "cell_type": "code",
   "execution_count": null,
   "metadata": {},
   "outputs": [],
   "source": [
    "json.dumps(['foo', {'bar': ('baz', None, 1.0, 2)}])"
   ]
  },
  {
   "cell_type": "code",
   "execution_count": null,
   "metadata": {},
   "outputs": [],
   "source": []
  }
 ],
 "metadata": {
  "kernelspec": {
   "display_name": "Python 3",
   "language": "python",
   "name": "python3"
  },
  "language_info": {
   "codemirror_mode": {
    "name": "ipython",
    "version": 3
   },
   "file_extension": ".py",
   "mimetype": "text/x-python",
   "name": "python",
   "nbconvert_exporter": "python",
   "pygments_lexer": "ipython3",
   "version": "3.8.3"
  }
 },
 "nbformat": 4,
 "nbformat_minor": 4
}
