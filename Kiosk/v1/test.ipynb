{
 "cells": [
  {
   "cell_type": "code",
   "execution_count": null,
   "metadata": {},
   "outputs": [],
   "source": [
    "import spo2 as _spo2\n",
    "# import spo2\n",
    "# spo2.spo2_1"
   ]
  },
  {
   "cell_type": "code",
   "execution_count": null,
   "metadata": {},
   "outputs": [],
   "source": [
    "_spo2.spo2_1"
   ]
  },
  {
   "cell_type": "code",
   "execution_count": null,
   "metadata": {},
   "outputs": [],
   "source": [
    "import raycomRPD7000 as bp"
   ]
  },
  {
   "cell_type": "code",
   "execution_count": null,
   "metadata": {},
   "outputs": [],
   "source": [
    "bp.BloodPressure"
   ]
  },
  {
   "cell_type": "code",
   "execution_count": null,
   "metadata": {},
   "outputs": [],
   "source": [
    "def callback(sum):\n",
    "    print(\"Sum = {}\".format(sum))\n",
    "def main(a,b,_callback=None):\n",
    "    print(\"adding {0} + {1}\".format(a,b))\n",
    "    if _callback:\n",
    "        _callback(a+b)"
   ]
  },
  {
   "cell_type": "code",
   "execution_count": null,
   "metadata": {},
   "outputs": [],
   "source": [
    "main(1,2,callback)"
   ]
  },
  {
   "cell_type": "code",
   "execution_count": null,
   "metadata": {},
   "outputs": [],
   "source": [
    "import json"
   ]
  },
  {
   "cell_type": "code",
   "execution_count": null,
   "metadata": {},
   "outputs": [],
   "source": [
    "a = {\"s\":\"d\"}\n",
    "b = {\"s\":\"d\"}"
   ]
  },
  {
   "cell_type": "code",
   "execution_count": null,
   "metadata": {},
   "outputs": [],
   "source": [
    "json.dumps(a)+json.dumps(b)"
   ]
  },
  {
   "cell_type": "code",
   "execution_count": null,
   "metadata": {},
   "outputs": [],
   "source": [
    "from binascii import unhexlify,hexlify\n",
    "from datetime import datetime\n",
    "\n",
    "class generalFun:\n",
    "    def __init__(self):\n",
    "        self.timeUp=None\n",
    "        \n",
    "    @staticmethod\n",
    "    def hexStr2Int(hexstr):\n",
    "        return int.from_bytes(hexstr,\"big\")\n",
    "        \n",
    "    @staticmethod\n",
    "    def HexStringtoByteArray(command):\n",
    "        command=command.replace(\" \",\"\")\n",
    "        command=unhexlify(command)\n",
    "        return command\n",
    "    \n",
    "    @staticmethod\n",
    "    def hexifyByteArray(hexString):\n",
    "        return hexlify(hexString).decode('unicode-escape').upper()\n",
    "    \n",
    "    @staticmethod\n",
    "    def printWtihHeader(header, logMsg):\n",
    "        print(header+\" \"+logMsg)\n",
    "        \n",
    "    @staticmethod    \n",
    "    def getTimestamp():\n",
    "        return int(datetime.timestamp(datetime.now())*1000)\n",
    "    \n",
    "    def timer(self, countDown):\n",
    "        countDown*=1000\n",
    "        self.timeUp=False\n",
    "        startTime = self.getTimestamp()\n",
    "        timediff=self.getTimestamp()-startTime\n",
    "        while timediff<=countDown:\n",
    "            timediff=self.getTimestamp()-startTime\n",
    "            print(\"waiting\")\n",
    "        print(\"done\")\n",
    "        self.timeUp=True"
   ]
  },
  {
   "cell_type": "code",
   "execution_count": null,
   "metadata": {},
   "outputs": [],
   "source": [
    "generalFun=generalFun()"
   ]
  },
  {
   "cell_type": "code",
   "execution_count": null,
   "metadata": {},
   "outputs": [],
   "source": [
    "def hello(*args):\n",
    "#     arge=list(args)\n",
    "    print(len(args))"
   ]
  },
  {
   "cell_type": "code",
   "execution_count": null,
   "metadata": {},
   "outputs": [],
   "source": [
    "h=False"
   ]
  },
  {
   "cell_type": "code",
   "execution_count": null,
   "metadata": {},
   "outputs": [],
   "source": [
    "if not h:\n",
    "    print(True)\n",
    "else:\n",
    "    print(\"Hello\")"
   ]
  },
  {
   "cell_type": "code",
   "execution_count": null,
   "metadata": {},
   "outputs": [],
   "source": []
  },
  {
   "cell_type": "code",
   "execution_count": null,
   "metadata": {},
   "outputs": [],
   "source": []
  }
 ],
 "metadata": {
  "kernelspec": {
   "display_name": "Python 3",
   "language": "python",
   "name": "python3"
  },
  "language_info": {
   "codemirror_mode": {
    "name": "ipython",
    "version": 3
   },
   "file_extension": ".py",
   "mimetype": "text/x-python",
   "name": "python",
   "nbconvert_exporter": "python",
   "pygments_lexer": "ipython3",
   "version": "3.8.3"
  }
 },
 "nbformat": 4,
 "nbformat_minor": 4
}
